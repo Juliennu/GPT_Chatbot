{
 "cells": [
  {
   "cell_type": "code",
   "execution_count": 1,
   "metadata": {},
   "outputs": [],
   "source": [
    "import os\n",
    "import openai\n",
    "from dotenv import load_dotenv\n",
    "\n",
    "# 環境変数の読み込み\n",
    "load_dotenv()\n",
    "openai.api_type = os.environ[\"API_TYPE\"]\n",
    "openai.api_base = os.environ[\"API_BASE\"]\n",
    "openai.api_version = os.environ[\"API_VERSION\"]\n",
    "openai.api_key = os.environ[\"API_KEY\"]\n",
    "\n",
    "engine = os.environ[\"API_ENGINE\"]"
   ]
  },
  {
   "cell_type": "code",
   "execution_count": 2,
   "metadata": {},
   "outputs": [],
   "source": [
    "import json\n",
    "\n",
    "# 検索結果を返す関数の作成\n",
    "def get_search_result(keyword, when, unit=\"d\"):\n",
    "    result = {\n",
    "        \"result\": [\n",
    "            {\"title\": \"1914年（大正3年）中央停車場改め「東京駅」として営業を開始しました\"},\n",
    "            {\"title\": \"1929年（昭和4年）八重洲口が開設されました\"},\n",
    "            {\"title\": \"2014年（平成26年）東京駅開業100周年を迎えました\"},\n",
    "        ]\n",
    "    }\n",
    "\n",
    "    return json.dumps(result) \n",
    "\n",
    "# 関数情報の作成\n",
    "functions=[\n",
    "    {\n",
    "        # 関数名を指定\n",
    "        \"name\": \"get_search_result\",\n",
    "        # 関数の概要。これをもとに言語モデルが関数使用を判断するためなるべく詳細に記述する。\n",
    "        \"description\": \"指定したキーワードの検索結果を取得する\",\n",
    "        \"parameters\": {\n",
    "            # 関数の型を指定(string, number, arrayなど)\n",
    "            \"type\": \"object\",\n",
    "            # 関数のパラメーターを記述\n",
    "            \"properties\": {\n",
    "                # 引数名\n",
    "                \"keyword\": {\n",
    "                    # 引数の型\n",
    "                    \"type\": \"string\",\n",
    "                    # 引数の意味。これをもとに言語モデルが関数使用を判断するためなるべく詳細に記述する。\n",
    "                    \"description\": \"キーワード\",\n",
    "                },\n",
    "                \"when\": {\n",
    "                    \"type\": \"number\",\n",
    "                    \"description\": \"日付や時間の範囲\"\n",
    "                },\n",
    "                \"unit\": {\n",
    "                    \"type\": \"string\",\n",
    "                    \"enum\": [\"d\", \"h\", \"y\"]\n",
    "                },\n",
    "            },\n",
    "            # 必須パラメーターをリストで指定\n",
    "            \"required\": [\"keyword\"],\n",
    "        },\n",
    "    }\n",
    "]"
   ]
  },
  {
   "cell_type": "code",
   "execution_count": 3,
   "metadata": {},
   "outputs": [
    {
     "data": {
      "text/plain": [
       "'{\\n  \"keyword\": \"東京駅のイベント\",\\n  \"when\": 1,\\n  \"unit\": \"m\"\\n}'"
      ]
     },
     "execution_count": 3,
     "metadata": {},
     "output_type": "execute_result"
    }
   ],
   "source": [
    "# Chat API呼び出し①\n",
    "question=\"東京駅の駅のイベントについて、最近1ヶ月以内の検索結果を教えてください\"\n",
    "\n",
    "response=openai.ChatCompletion.create(\n",
    "    engine=engine,\n",
    "    messages=[\n",
    "        {\"role\": \"user\", \"content\": question},\n",
    "    ],\n",
    "    functions=functions,\n",
    "    function_call=\"auto\",\n",
    ")\n",
    "\n",
    "#response\n",
    "response[\"choices\"][0][\"message\"][\"function_call\"][\"arguments\"]"
   ]
  },
  {
   "cell_type": "code",
   "execution_count": 4,
   "metadata": {},
   "outputs": [
    {
     "name": "stdout",
     "output_type": "stream",
     "text": [
      "メッセージ: {\n",
      "  \"role\": \"assistant\",\n",
      "  \"function_call\": {\n",
      "    \"name\": \"get_search_result\",\n",
      "    \"arguments\": \"{\\n  \\\"keyword\\\": \\\"\\u6771\\u4eac\\u99c5\\u306e\\u30a4\\u30d9\\u30f3\\u30c8\\\",\\n  \\\"when\\\": 1,\\n  \\\"unit\\\": \\\"m\\\"\\n}\"\n",
      "  }\n",
      "}\n",
      "関数名：get_search_result\n",
      "引数：{'keyword': '東京駅のイベント', 'when': 1, 'unit': 'm'}\n",
      "関数の実行結果：{\"result\": [{\"title\": \"1914\\u5e74\\uff08\\u5927\\u6b633\\u5e74\\uff09\\u4e2d\\u592e\\u505c\\u8eca\\u5834\\u6539\\u3081\\u300c\\u6771\\u4eac\\u99c5\\u300d\\u3068\\u3057\\u3066\\u55b6\\u696d\\u3092\\u958b\\u59cb\\u3057\\u307e\\u3057\\u305f\"}, {\"title\": \"1929\\u5e74\\uff08\\u662d\\u548c4\\u5e74\\uff09\\u516b\\u91cd\\u6d32\\u53e3\\u304c\\u958b\\u8a2d\\u3055\\u308c\\u307e\\u3057\\u305f\"}, {\"title\": \"2014\\u5e74\\uff08\\u5e73\\u621026\\u5e74\\uff09\\u6771\\u4eac\\u99c5\\u958b\\u696d100\\u5468\\u5e74\\u3092\\u8fce\\u3048\\u307e\\u3057\\u305f\"}]}\n",
      "最近1ヶ月以内の東京駅の駅のイベントについての検索結果は以下の通りです：\n",
      "\n",
      "1. 1914年（大正3年）中央停車場改め「東京駅」の開業を記念して、2021年11月1日から営業を開始しました。\n",
      "   （タイトル: 1914年（大正3年）中央停車場改め「東京駅」として営業を開始しました）\n",
      "\n",
      "2. 1929年（昭和4年）八重洲口が開設されました。\n",
      "   （タイトル: 1929年（昭和4年）八重洲口が開設されました）\n",
      "\n",
      "3. 2014年（平成26年）東京駅開業100周年を迎えました。\n",
      "   （タイトル: 2014年（平成26年）東京駅開業100周年を迎えました）\n",
      "\n",
      "以上が最近1ヶ月以内の東京駅の駅に関するイベントに関する検索結果です。\n"
     ]
    }
   ],
   "source": [
    "# Python 関数呼び出しとChatAPI呼び出し②\n",
    "\n",
    "# 言語モデルからの回答メッセージを取得\n",
    "message: dict[str, str] = response[\"choices\"][0][\"message\"]\n",
    "print(f\"メッセージ: {message}\")\n",
    "\n",
    "# モデルが関数呼出と判断した\n",
    "if message.get(\"function_call\"):\n",
    "    # 関数名の取得\n",
    "    function_name = message[\"function_call\"][\"name\"]\n",
    "    print(f\"関数名：{function_name}\")\n",
    "    # 引数の取得\n",
    "    arguments = json.loads(message[\"function_call\"][\"arguments\"])\n",
    "    print(f\"引数：{arguments}\")\n",
    "\n",
    "    # 関数名で実行する関数を判断\n",
    "    if function_name == \"get_search_result\":\n",
    "        function_response = get_search_result(\n",
    "            keyword=arguments.get(\"keyword\"),\n",
    "            when=arguments.get(\"when\"),\n",
    "            unit=arguments.get(\"unit\"),\n",
    "        )\n",
    "    print(f\"関数の実行結果：{function_response}\")\n",
    "\n",
    "    # 関数の実行結果をmessagesに加えて言語モデルを呼出\n",
    "    response2 = openai.ChatCompletion.create(\n",
    "        engine=engine,\n",
    "        messages=[\n",
    "            {\"role\": \"user\", \"content\": question},\n",
    "            #message,\n",
    "            {\n",
    "                \"role\": \"function\",\n",
    "                \"name\": function_name,\n",
    "                \"content\": function_response,\n",
    "            },\n",
    "        ],\n",
    "    )\n",
    "\n",
    "    # 言語モデルからの回答を出力\n",
    "    print(response2.choices[0][\"message\"][\"content\"].strip())\n",
    "\n",
    "else:\n",
    "    # 関数呼び出しでなければ、単に言語モデルからの回答を出力\n",
    "    print(response.choices[0][\"message\"][\"content\"].strip())"
   ]
  },
  {
   "cell_type": "code",
   "execution_count": null,
   "metadata": {},
   "outputs": [],
   "source": []
  }
 ],
 "metadata": {
  "kernelspec": {
   "display_name": ".venv",
   "language": "python",
   "name": "python3"
  },
  "language_info": {
   "codemirror_mode": {
    "name": "ipython",
    "version": 3
   },
   "file_extension": ".py",
   "mimetype": "text/x-python",
   "name": "python",
   "nbconvert_exporter": "python",
   "pygments_lexer": "ipython3",
   "version": "3.11.6"
  }
 },
 "nbformat": 4,
 "nbformat_minor": 2
}
