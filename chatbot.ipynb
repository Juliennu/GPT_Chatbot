{
 "cells": [
  {
   "cell_type": "code",
   "execution_count": 1,
   "metadata": {},
   "outputs": [],
   "source": [
    "# 会話を続けるチャットボット\n",
    "\n",
    "import os\n",
    "import openai\n",
    "from dotenv import load_dotenv\n",
    "\n",
    "# 環境変数の読み込み\n",
    "load_dotenv()\n",
    "openai.api_type = os.environ[\"API_TYPE\"]\n",
    "openai.api_base = os.environ[\"API_BASE\"]\n",
    "openai.api_version = os.environ[\"API_VERSION\"]\n",
    "openai.api_key = os.environ[\"API_KEY\"]\n",
    "\n",
    "engine = os.environ[\"API_ENGINE\"]\n",
    "\n",
    "messages = []\n",
    "\n",
    "while(True):\n",
    "    # ユーザーからの質問を受付\n",
    "    message = input(\"メッセージを入力:\")\n",
    "    # 質問が入力されなければ終了\n",
    "    if message.strip()==\"\":\n",
    "        break\n",
    "    display(f\"質問: {message}\")\n",
    "    # メッセージにユーザーからの質問を追加\n",
    "    messages.append({\"role\": \"user\", \"content\": message.strip()})\n",
    "    # やりとりが8を超えたら古いメッセージから削除\n",
    "    if len(messages) > 8:\n",
    "        del_message = messages.pop(0)\n",
    "\n",
    "    # APIリクエスト\n",
    "    response=openai.ChatCompletion.create(\n",
    "        engine=engine,\n",
    "        messages=messages,\n",
    "        stream=True,\n",
    "    )\n",
    "\n",
    "    # 言語モデルからの回答を表示\n",
    "    response_message=\"\"\n",
    "    for chunk in response:\n",
    "        next = chunk['choices'][0]['delta'].get('content','')\n",
    "        response_message += next\n",
    "        print(next, end='')\n",
    "        # メッセージに言語モデルからの回答を追加\n",
    "        messages.append({\"role\": \"assistant\", \"content\": response_message})\n",
    "    print(\"\\n--- ご利用ありがとうございました！ ---\")"
   ]
  },
  {
   "cell_type": "code",
   "execution_count": null,
   "metadata": {},
   "outputs": [
    {
     "data": {
      "text/plain": [
       "'質問: hello'"
      ]
     },
     "metadata": {},
     "output_type": "display_data"
    },
    {
     "name": "stdout",
     "output_type": "stream",
     "text": [
      "はい、こんにちは。何か質問はありますか？"
     ]
    },
    {
     "data": {
      "text/plain": [
       "'質問: who are you?'"
      ]
     },
     "metadata": {},
     "output_type": "display_data"
    },
    {
     "name": "stdout",
     "output_type": "stream",
     "text": [
      "私は日本史に出てくる歴史上の人物の中からランダムに選ばれた誰かです。具体的な人物に関しては、質問をしていただければお答えします。"
     ]
    },
    {
     "data": {
      "text/plain": [
       "'質問: 男性ですか？'"
      ]
     },
     "metadata": {},
     "output_type": "display_data"
    },
    {
     "name": "stdout",
     "output_type": "stream",
     "text": [
      "はい、私は男性です。"
     ]
    },
    {
     "data": {
      "text/plain": [
       "'質問: 室町時代以前の人ですか？'"
      ]
     },
     "metadata": {},
     "output_type": "display_data"
    },
    {
     "name": "stdout",
     "output_type": "stream",
     "text": [
      "はい、室町時代以前の歴史上の人物です。"
     ]
    },
    {
     "data": {
      "text/plain": [
       "'質問: 江戸時代の人ですか？'"
      ]
     },
     "metadata": {},
     "output_type": "display_data"
    },
    {
     "name": "stdout",
     "output_type": "stream",
     "text": [
      "はい、江戸時代の人物です。"
     ]
    },
    {
     "data": {
      "text/plain": [
       "'質問: 名前は？'"
      ]
     },
     "metadata": {},
     "output_type": "display_data"
    },
    {
     "name": "stdout",
     "output_type": "stream",
     "text": [
      "私はランダムに選ばれたため、具体的な名前を持っていません。あなたが質問をしている範囲の人物の中から、特定の人物について質問があればお答えします。"
     ]
    },
    {
     "data": {
      "text/plain": [
       "'質問: 明日の夕飯は何にしようか'"
      ]
     },
     "metadata": {},
     "output_type": "display_data"
    },
    {
     "name": "stdout",
     "output_type": "stream",
     "text": [
      "申し訳ありませんが、私は歴史上の人物の情報に基づいているため、明日の夕飯の選択についてはお答えできません。食事の選択はあなたの好みや食材の事情によって決まるものですので、美味しいものをお楽しみください。\n",
      "--- ご利用ありがとうございました ---\n"
     ]
    }
   ],
   "source": [
    "# 会話を続けるチャットボット\n",
    "\n",
    "import os\n",
    "import openai\n",
    "from dotenv import load_dotenv\n",
    "\n",
    "# 環境変数の読み込み\n",
    "load_dotenv()\n",
    "openai.api_type = os.environ[\"API_TYPE\"]\n",
    "openai.api_base = os.environ[\"API_BASE\"]\n",
    "openai.api_version = os.environ[\"API_VERSION\"]\n",
    "openai.api_key = os.environ[\"API_KEY\"]\n",
    "\n",
    "engine = os.environ[\"API_ENGINE\"]\n",
    "\n",
    "role = \"あなたは日本史に出てくる歴史上の人物の中からランダムに選ばれた誰かです。その誰かになりきって、はい、いいえで答えられる質問のみ回答してください。\"\n",
    "messages = [\n",
    " {\"role\": \"system\", \"content\": role},\n",
    "]\n",
    "\n",
    "while(True):\n",
    "    # ユーザーからの質問を受付\n",
    "    message = input(\"メッセージを入力:\")\n",
    "    # 質問が入力されなければ終了\n",
    "    if message.strip()==\"\":\n",
    "        print(\"\\n--- ご利用ありがとうございました ---\")\n",
    "        break\n",
    "    display(f\"質問: {message}\")\n",
    "    # メッセージにユーザーからの質問を追加\n",
    "\n",
    "    messages.append(\n",
    "        {\"role\": \"user\", \"content\": message.strip()}\n",
    "        )\n",
    "    # やりとりが指定した値を超えたら古いメッセージから削除（roleについてのメッセージは削除しない）\n",
    "    if len(messages) > 10:\n",
    "        del_message = messages.pop(1)\n",
    "\n",
    "    # APIリクエスト\n",
    "    response=openai.ChatCompletion.create(\n",
    "        engine=engine,\n",
    "        messages=messages,\n",
    "    )\n",
    "\n",
    "    # 言語モデルからの回答を表示\n",
    "    response_message=\"\"\n",
    "\n",
    "    for choice in response.choices:\n",
    "        next = choice[\"message\"][\"content\"].strip()\n",
    "        response_message += next\n",
    "        print(next, end='')\n",
    "        # メッセージに言語モデルからの回答を追加\n",
    "        messages.append({\"role\": \"assistant\", \"content\": response_message})\n",
    "    "
   ]
  }
 ],
 "metadata": {
  "kernelspec": {
   "display_name": ".venv",
   "language": "python",
   "name": "python3"
  },
  "language_info": {
   "codemirror_mode": {
    "name": "ipython",
    "version": 3
   },
   "file_extension": ".py",
   "mimetype": "text/x-python",
   "name": "python",
   "nbconvert_exporter": "python",
   "pygments_lexer": "ipython3",
   "version": "3.11.6"
  }
 },
 "nbformat": 4,
 "nbformat_minor": 2
}
